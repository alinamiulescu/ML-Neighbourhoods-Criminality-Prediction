{
 "cells": [
  {
   "cell_type": "markdown",
   "metadata": {},
   "source": [
    "# Predict criminality in Dutch neighbourhoods"
   ]
  },
  {
   "cell_type": "code",
   "execution_count": 171,
   "metadata": {},
   "outputs": [],
   "source": [
    "import math\n",
    "import numpy as np\n",
    "from pandas import Series, DataFrame\n",
    "import pandas as pd\n",
    "import matplotlib.pyplot as plt\n",
    "import seaborn as sns\n",
    "from sklearn.model_selection import train_test_split\n",
    "from sklearn.model_selection import cross_val_score\n",
    "from sklearn.model_selection import GridSearchCV\n",
    "\n",
    "#import scipy.stats as stats\n",
    "#plt.rc('figure', figsize=(10, 6))\n",
    "%matplotlib inline\n",
    "\n",
    "from IPython.core.interactiveshell import InteractiveShell\n",
    "InteractiveShell.ast_node_interactivity = \"all\""
   ]
  },
  {
   "cell_type": "code",
   "execution_count": 176,
   "metadata": {},
   "outputs": [
    {
     "data": {
      "text/plain": [
       "(15446, 2)"
      ]
     },
     "execution_count": 176,
     "metadata": {},
     "output_type": "execute_result"
    },
    {
     "data": {
      "text/plain": [
       "(16194, 54)"
      ]
     },
     "execution_count": 176,
     "metadata": {},
     "output_type": "execute_result"
    }
   ],
   "source": [
    "excel = pd.ExcelFile('Geregistreerde-criminaliteit-per-gemeente-wijk-en-buurt-2010-2015.xlsx')\n",
    "df1 = excel.parse(\"Tabel 6\", decimal=\",\")\n",
    "df1 = df1.loc[5:, ['Unnamed: 1', 'Totaal vermogen, vernieling en geweld']]\n",
    "df1.columns = ['gm_naam', 't_hevig']\n",
    "df1.shape\n",
    "\n",
    "df2=pd.read_excel('kwb-2016.xls', decimal=\",\")\n",
    "df2.shape"
   ]
  },
  {
   "cell_type": "markdown",
   "metadata": {},
   "source": [
    "<b>Prepare Data </b>"
   ]
  },
  {
   "cell_type": "markdown",
   "metadata": {},
   "source": [
    "a) Load the datasets"
   ]
  },
  {
   "cell_type": "code",
   "execution_count": 177,
   "metadata": {},
   "outputs": [
    {
     "data": {
      "text/html": [
       "<div>\n",
       "<style scoped>\n",
       "    .dataframe tbody tr th:only-of-type {\n",
       "        vertical-align: middle;\n",
       "    }\n",
       "\n",
       "    .dataframe tbody tr th {\n",
       "        vertical-align: top;\n",
       "    }\n",
       "\n",
       "    .dataframe thead th {\n",
       "        text-align: right;\n",
       "    }\n",
       "</style>\n",
       "<table border=\"1\" class=\"dataframe\">\n",
       "  <thead>\n",
       "    <tr style=\"text-align: right;\">\n",
       "      <th></th>\n",
       "      <th>gm_naam</th>\n",
       "      <th>recs</th>\n",
       "      <th>a_inw</th>\n",
       "      <th>a_man</th>\n",
       "      <th>a_15_24</th>\n",
       "      <th>a_25_44</th>\n",
       "      <th>a_45_64</th>\n",
       "      <th>a_65_oo</th>\n",
       "      <th>a_gehuwd</th>\n",
       "      <th>a_gesch</th>\n",
       "      <th>...</th>\n",
       "      <th>a_bst_nb</th>\n",
       "      <th>g_pau_hh</th>\n",
       "      <th>g_pau_km</th>\n",
       "      <th>a_m2w</th>\n",
       "      <th>g_afs_gs</th>\n",
       "      <th>a_lan_ha</th>\n",
       "      <th>a_wat_ha</th>\n",
       "      <th>ste_mvs</th>\n",
       "      <th>ste_oad</th>\n",
       "      <th>t_hevig</th>\n",
       "    </tr>\n",
       "  </thead>\n",
       "  <tbody>\n",
       "    <tr>\n",
       "      <th>0</th>\n",
       "      <td>Nederland</td>\n",
       "      <td>Land</td>\n",
       "      <td>16979120</td>\n",
       "      <td>8417135</td>\n",
       "      <td>2084673</td>\n",
       "      <td>4217738</td>\n",
       "      <td>4791629</td>\n",
       "      <td>3085308</td>\n",
       "      <td>6727554</td>\n",
       "      <td>1278530</td>\n",
       "      <td>...</td>\n",
       "      <td>1699000</td>\n",
       "      <td>1.0</td>\n",
       "      <td>241</td>\n",
       "      <td>652545</td>\n",
       "      <td>0.9</td>\n",
       "      <td>3367996</td>\n",
       "      <td>786306</td>\n",
       "      <td>2</td>\n",
       "      <td>1961</td>\n",
       "      <td>.</td>\n",
       "    </tr>\n",
       "    <tr>\n",
       "      <th>1</th>\n",
       "      <td>Appingedam</td>\n",
       "      <td>Gemeente</td>\n",
       "      <td>12001</td>\n",
       "      <td>5802</td>\n",
       "      <td>1232</td>\n",
       "      <td>2554</td>\n",
       "      <td>3565</td>\n",
       "      <td>2825</td>\n",
       "      <td>5059</td>\n",
       "      <td>1008</td>\n",
       "      <td>...</td>\n",
       "      <td>795</td>\n",
       "      <td>0.9</td>\n",
       "      <td>223</td>\n",
       "      <td>555</td>\n",
       "      <td>0.9</td>\n",
       "      <td>2378</td>\n",
       "      <td>80</td>\n",
       "      <td>3</td>\n",
       "      <td>1041</td>\n",
       "      <td>31</td>\n",
       "    </tr>\n",
       "    <tr>\n",
       "      <th>2</th>\n",
       "      <td>Appingedam</td>\n",
       "      <td>Wijk</td>\n",
       "      <td>12000</td>\n",
       "      <td>5800</td>\n",
       "      <td>1230</td>\n",
       "      <td>2555</td>\n",
       "      <td>3565</td>\n",
       "      <td>2825</td>\n",
       "      <td>5060</td>\n",
       "      <td>1005</td>\n",
       "      <td>...</td>\n",
       "      <td>795</td>\n",
       "      <td>0.9</td>\n",
       "      <td>223</td>\n",
       "      <td>555</td>\n",
       "      <td>0.9</td>\n",
       "      <td>2378</td>\n",
       "      <td>80</td>\n",
       "      <td>3</td>\n",
       "      <td>1041</td>\n",
       "      <td>31</td>\n",
       "    </tr>\n",
       "    <tr>\n",
       "      <th>3</th>\n",
       "      <td>Appingedam</td>\n",
       "      <td>Buurt</td>\n",
       "      <td>2335</td>\n",
       "      <td>1090</td>\n",
       "      <td>210</td>\n",
       "      <td>495</td>\n",
       "      <td>680</td>\n",
       "      <td>715</td>\n",
       "      <td>845</td>\n",
       "      <td>245</td>\n",
       "      <td>...</td>\n",
       "      <td>150</td>\n",
       "      <td>0.8</td>\n",
       "      <td>1194</td>\n",
       "      <td>85</td>\n",
       "      <td>0.6</td>\n",
       "      <td>84</td>\n",
       "      <td>5</td>\n",
       "      <td>3</td>\n",
       "      <td>1184</td>\n",
       "      <td>31</td>\n",
       "    </tr>\n",
       "    <tr>\n",
       "      <th>4</th>\n",
       "      <td>Appingedam</td>\n",
       "      <td>Buurt</td>\n",
       "      <td>3095</td>\n",
       "      <td>1525</td>\n",
       "      <td>335</td>\n",
       "      <td>620</td>\n",
       "      <td>1025</td>\n",
       "      <td>580</td>\n",
       "      <td>1445</td>\n",
       "      <td>205</td>\n",
       "      <td>...</td>\n",
       "      <td>230</td>\n",
       "      <td>1.1</td>\n",
       "      <td>957</td>\n",
       "      <td>155</td>\n",
       "      <td>1.3</td>\n",
       "      <td>158</td>\n",
       "      <td>5</td>\n",
       "      <td>4</td>\n",
       "      <td>892</td>\n",
       "      <td>31</td>\n",
       "    </tr>\n",
       "  </tbody>\n",
       "</table>\n",
       "<p>5 rows × 55 columns</p>\n",
       "</div>"
      ],
      "text/plain": [
       "      gm_naam      recs     a_inw    a_man  a_15_24  a_25_44  a_45_64  \\\n",
       "0   Nederland      Land  16979120  8417135  2084673  4217738  4791629   \n",
       "1  Appingedam  Gemeente     12001     5802     1232     2554     3565   \n",
       "2  Appingedam      Wijk     12000     5800     1230     2555     3565   \n",
       "3  Appingedam     Buurt      2335     1090      210      495      680   \n",
       "4  Appingedam     Buurt      3095     1525      335      620     1025   \n",
       "\n",
       "   a_65_oo  a_gehuwd  a_gesch   ...     a_bst_nb  g_pau_hh  g_pau_km   a_m2w  \\\n",
       "0  3085308   6727554  1278530   ...      1699000       1.0       241  652545   \n",
       "1     2825      5059     1008   ...          795       0.9       223     555   \n",
       "2     2825      5060     1005   ...          795       0.9       223     555   \n",
       "3      715       845      245   ...          150       0.8      1194      85   \n",
       "4      580      1445      205   ...          230       1.1       957     155   \n",
       "\n",
       "   g_afs_gs  a_lan_ha  a_wat_ha  ste_mvs  ste_oad  t_hevig  \n",
       "0       0.9   3367996    786306        2     1961        .  \n",
       "1       0.9      2378        80        3     1041       31  \n",
       "2       0.9      2378        80        3     1041       31  \n",
       "3       0.6        84         5        3     1184       31  \n",
       "4       1.3       158         5        4      892       31  \n",
       "\n",
       "[5 rows x 55 columns]"
      ]
     },
     "execution_count": 177,
     "metadata": {},
     "output_type": "execute_result"
    }
   ],
   "source": [
    "df = df2.merge(df1, on=\"gm_naam\", how=\"left\")\n",
    "df.head()"
   ]
  },
  {
   "cell_type": "markdown",
   "metadata": {},
   "source": [
    "b) Clean the data"
   ]
  },
  {
   "cell_type": "code",
   "execution_count": 178,
   "metadata": {
    "scrolled": true
   },
   "outputs": [
    {
     "data": {
      "text/plain": [
       "(10713, 54)"
      ]
     },
     "execution_count": 178,
     "metadata": {},
     "output_type": "execute_result"
    }
   ],
   "source": [
    "#1. Drop missing values\n",
    "df.replace('.', np.nan, inplace=True)\n",
    "df.dropna(how='any', inplace=True)\n",
    "\n",
    "#2. Select neighborhoods\n",
    "df = df[df['recs']=='Buurt']\n",
    "\n",
    "#3. Remove the 'recs' column as it's always \"Buurt\"\n",
    "df = df.drop('recs', axis=1)\n",
    "\n",
    "df.shape"
   ]
  },
  {
   "cell_type": "markdown",
   "metadata": {},
   "source": [
    "c) Engineer some features"
   ]
  },
  {
   "cell_type": "code",
   "execution_count": 179,
   "metadata": {},
   "outputs": [
    {
     "data": {
      "text/html": [
       "<div>\n",
       "<style scoped>\n",
       "    .dataframe tbody tr th:only-of-type {\n",
       "        vertical-align: middle;\n",
       "    }\n",
       "\n",
       "    .dataframe tbody tr th {\n",
       "        vertical-align: top;\n",
       "    }\n",
       "\n",
       "    .dataframe thead th {\n",
       "        text-align: right;\n",
       "    }\n",
       "</style>\n",
       "<table border=\"1\" class=\"dataframe\">\n",
       "  <thead>\n",
       "    <tr style=\"text-align: right;\">\n",
       "      <th></th>\n",
       "      <th>gm_naam</th>\n",
       "      <th>a_inw</th>\n",
       "      <th>a_man</th>\n",
       "      <th>a_15_24</th>\n",
       "      <th>a_25_44</th>\n",
       "      <th>a_45_64</th>\n",
       "      <th>a_65_oo</th>\n",
       "      <th>a_gehuwd</th>\n",
       "      <th>a_gesch</th>\n",
       "      <th>a_verwed</th>\n",
       "      <th>...</th>\n",
       "      <th>a_bst_nb</th>\n",
       "      <th>g_pau_hh</th>\n",
       "      <th>g_pau_km</th>\n",
       "      <th>a_m2w</th>\n",
       "      <th>g_afs_gs</th>\n",
       "      <th>a_lan_ha</th>\n",
       "      <th>a_wat_ha</th>\n",
       "      <th>ste_mvs</th>\n",
       "      <th>ste_oad</th>\n",
       "      <th>t_hevig</th>\n",
       "    </tr>\n",
       "  </thead>\n",
       "  <tbody>\n",
       "    <tr>\n",
       "      <th>3</th>\n",
       "      <td>Appingedam</td>\n",
       "      <td>2335</td>\n",
       "      <td>1090</td>\n",
       "      <td>0.089936</td>\n",
       "      <td>0.211991</td>\n",
       "      <td>0.291221</td>\n",
       "      <td>0.306210</td>\n",
       "      <td>0.361884</td>\n",
       "      <td>0.104925</td>\n",
       "      <td>0.130621</td>\n",
       "      <td>...</td>\n",
       "      <td>0.064240</td>\n",
       "      <td>0.8</td>\n",
       "      <td>1194</td>\n",
       "      <td>0.036403</td>\n",
       "      <td>0.6</td>\n",
       "      <td>0.035974</td>\n",
       "      <td>0.002141</td>\n",
       "      <td>3</td>\n",
       "      <td>1184</td>\n",
       "      <td>31.0</td>\n",
       "    </tr>\n",
       "    <tr>\n",
       "      <th>4</th>\n",
       "      <td>Appingedam</td>\n",
       "      <td>3095</td>\n",
       "      <td>1525</td>\n",
       "      <td>0.108239</td>\n",
       "      <td>0.200323</td>\n",
       "      <td>0.331179</td>\n",
       "      <td>0.187399</td>\n",
       "      <td>0.466882</td>\n",
       "      <td>0.066236</td>\n",
       "      <td>0.038772</td>\n",
       "      <td>...</td>\n",
       "      <td>0.074313</td>\n",
       "      <td>1.1</td>\n",
       "      <td>957</td>\n",
       "      <td>0.050081</td>\n",
       "      <td>1.3</td>\n",
       "      <td>0.051050</td>\n",
       "      <td>0.001616</td>\n",
       "      <td>4</td>\n",
       "      <td>892</td>\n",
       "      <td>31.0</td>\n",
       "    </tr>\n",
       "    <tr>\n",
       "      <th>5</th>\n",
       "      <td>Appingedam</td>\n",
       "      <td>5980</td>\n",
       "      <td>2870</td>\n",
       "      <td>0.103679</td>\n",
       "      <td>0.221572</td>\n",
       "      <td>0.273411</td>\n",
       "      <td>0.241639</td>\n",
       "      <td>0.414716</td>\n",
       "      <td>0.088629</td>\n",
       "      <td>0.076087</td>\n",
       "      <td>...</td>\n",
       "      <td>0.056020</td>\n",
       "      <td>0.9</td>\n",
       "      <td>872</td>\n",
       "      <td>0.044314</td>\n",
       "      <td>0.6</td>\n",
       "      <td>0.047492</td>\n",
       "      <td>0.001839</td>\n",
       "      <td>3</td>\n",
       "      <td>1108</td>\n",
       "      <td>31.0</td>\n",
       "    </tr>\n",
       "    <tr>\n",
       "      <th>6</th>\n",
       "      <td>Appingedam</td>\n",
       "      <td>330</td>\n",
       "      <td>175</td>\n",
       "      <td>0.106061</td>\n",
       "      <td>0.242424</td>\n",
       "      <td>0.363636</td>\n",
       "      <td>0.090909</td>\n",
       "      <td>0.454545</td>\n",
       "      <td>0.030303</td>\n",
       "      <td>0.015152</td>\n",
       "      <td>...</td>\n",
       "      <td>0.151515</td>\n",
       "      <td>1.6</td>\n",
       "      <td>35</td>\n",
       "      <td>0.106061</td>\n",
       "      <td>1.8</td>\n",
       "      <td>1.636364</td>\n",
       "      <td>0.054545</td>\n",
       "      <td>5</td>\n",
       "      <td>352</td>\n",
       "      <td>31.0</td>\n",
       "    </tr>\n",
       "    <tr>\n",
       "      <th>8</th>\n",
       "      <td>Appingedam</td>\n",
       "      <td>160</td>\n",
       "      <td>85</td>\n",
       "      <td>0.093750</td>\n",
       "      <td>0.125000</td>\n",
       "      <td>0.343750</td>\n",
       "      <td>0.187500</td>\n",
       "      <td>0.500000</td>\n",
       "      <td>0.062500</td>\n",
       "      <td>0.000000</td>\n",
       "      <td>...</td>\n",
       "      <td>0.062500</td>\n",
       "      <td>0.9</td>\n",
       "      <td>7</td>\n",
       "      <td>0.031250</td>\n",
       "      <td>2.9</td>\n",
       "      <td>4.725000</td>\n",
       "      <td>0.081250</td>\n",
       "      <td>5</td>\n",
       "      <td>160</td>\n",
       "      <td>31.0</td>\n",
       "    </tr>\n",
       "  </tbody>\n",
       "</table>\n",
       "<p>5 rows × 54 columns</p>\n",
       "</div>"
      ],
      "text/plain": [
       "      gm_naam  a_inw  a_man   a_15_24   a_25_44   a_45_64   a_65_oo  a_gehuwd  \\\n",
       "3  Appingedam   2335   1090  0.089936  0.211991  0.291221  0.306210  0.361884   \n",
       "4  Appingedam   3095   1525  0.108239  0.200323  0.331179  0.187399  0.466882   \n",
       "5  Appingedam   5980   2870  0.103679  0.221572  0.273411  0.241639  0.414716   \n",
       "6  Appingedam    330    175  0.106061  0.242424  0.363636  0.090909  0.454545   \n",
       "8  Appingedam    160     85  0.093750  0.125000  0.343750  0.187500  0.500000   \n",
       "\n",
       "    a_gesch  a_verwed   ...     a_bst_nb  g_pau_hh  g_pau_km     a_m2w  \\\n",
       "3  0.104925  0.130621   ...     0.064240       0.8      1194  0.036403   \n",
       "4  0.066236  0.038772   ...     0.074313       1.1       957  0.050081   \n",
       "5  0.088629  0.076087   ...     0.056020       0.9       872  0.044314   \n",
       "6  0.030303  0.015152   ...     0.151515       1.6        35  0.106061   \n",
       "8  0.062500  0.000000   ...     0.062500       0.9         7  0.031250   \n",
       "\n",
       "   g_afs_gs  a_lan_ha  a_wat_ha  ste_mvs  ste_oad  t_hevig  \n",
       "3       0.6  0.035974  0.002141        3     1184     31.0  \n",
       "4       1.3  0.051050  0.001616        4      892     31.0  \n",
       "5       0.6  0.047492  0.001839        3     1108     31.0  \n",
       "6       1.8  1.636364  0.054545        5      352     31.0  \n",
       "8       2.9  4.725000  0.081250        5      160     31.0  \n",
       "\n",
       "[5 rows x 54 columns]"
      ]
     },
     "execution_count": 179,
     "metadata": {},
     "output_type": "execute_result"
    }
   ],
   "source": [
    "#1.Transform all numerical columns into int64 or float64\n",
    "df = df.apply(pd.to_numeric, errors='ignore')\n",
    "\n",
    "#2.Transform all demographic columns by dividing them by the total inhabitants (a_inw) of the neighbourhood\n",
    "#Remove records with zero number of inhabitants\n",
    "df = df[df['a_inw'] != 0]\n",
    "  \n",
    "filter_col = [col for col in df.iloc[0:,3:] if col.startswith('a_')]\n",
    "df[filter_col] = df[filter_col].div(df['a_inw'], axis=0)\n",
    "df.head()       "
   ]
  },
  {
   "cell_type": "markdown",
   "metadata": {},
   "source": [
    "d) Convert the dependent variable 't_hevig' to a categorical variable"
   ]
  },
  {
   "cell_type": "code",
   "execution_count": 180,
   "metadata": {},
   "outputs": [
    {
     "data": {
      "text/html": [
       "<div>\n",
       "<style scoped>\n",
       "    .dataframe tbody tr th:only-of-type {\n",
       "        vertical-align: middle;\n",
       "    }\n",
       "\n",
       "    .dataframe tbody tr th {\n",
       "        vertical-align: top;\n",
       "    }\n",
       "\n",
       "    .dataframe thead th {\n",
       "        text-align: right;\n",
       "    }\n",
       "</style>\n",
       "<table border=\"1\" class=\"dataframe\">\n",
       "  <thead>\n",
       "    <tr style=\"text-align: right;\">\n",
       "      <th></th>\n",
       "      <th>gm_naam</th>\n",
       "      <th>t_hevig</th>\n",
       "      <th>t_hevig_niv</th>\n",
       "    </tr>\n",
       "  </thead>\n",
       "  <tbody>\n",
       "    <tr>\n",
       "      <th>3</th>\n",
       "      <td>Appingedam</td>\n",
       "      <td>31.0</td>\n",
       "      <td>MEDIUM</td>\n",
       "    </tr>\n",
       "    <tr>\n",
       "      <th>4</th>\n",
       "      <td>Appingedam</td>\n",
       "      <td>31.0</td>\n",
       "      <td>MEDIUM</td>\n",
       "    </tr>\n",
       "    <tr>\n",
       "      <th>5</th>\n",
       "      <td>Appingedam</td>\n",
       "      <td>31.0</td>\n",
       "      <td>MEDIUM</td>\n",
       "    </tr>\n",
       "    <tr>\n",
       "      <th>6</th>\n",
       "      <td>Appingedam</td>\n",
       "      <td>31.0</td>\n",
       "      <td>MEDIUM</td>\n",
       "    </tr>\n",
       "    <tr>\n",
       "      <th>8</th>\n",
       "      <td>Appingedam</td>\n",
       "      <td>31.0</td>\n",
       "      <td>MEDIUM</td>\n",
       "    </tr>\n",
       "  </tbody>\n",
       "</table>\n",
       "</div>"
      ],
      "text/plain": [
       "      gm_naam  t_hevig t_hevig_niv\n",
       "3  Appingedam     31.0      MEDIUM\n",
       "4  Appingedam     31.0      MEDIUM\n",
       "5  Appingedam     31.0      MEDIUM\n",
       "6  Appingedam     31.0      MEDIUM\n",
       "8  Appingedam     31.0      MEDIUM"
      ]
     },
     "execution_count": 180,
     "metadata": {},
     "output_type": "execute_result"
    }
   ],
   "source": [
    "df['t_hevig_niv'] = pd.qcut(df['t_hevig'], 3, labels=[\"LOW\", \"MEDIUM\", \"HIGH\"])\n",
    "df[['gm_naam', 't_hevig', 't_hevig_niv']].head()"
   ]
  },
  {
   "cell_type": "markdown",
   "metadata": {},
   "source": [
    "e) Create train-test split [the split is 0.25/0.75 by default]"
   ]
  },
  {
   "cell_type": "code",
   "execution_count": 181,
   "metadata": {},
   "outputs": [],
   "source": [
    "#1. Extract Y\n",
    "y = df['t_hevig_niv']\n",
    "y = np.array(y)\n",
    "\n",
    "#2. Extract X\n",
    "X = df.iloc[:,1:-2]\n",
    "X = np.array(X)"
   ]
  },
  {
   "cell_type": "code",
   "execution_count": 182,
   "metadata": {},
   "outputs": [
    {
     "data": {
      "text/plain": [
       "(8034, 52)"
      ]
     },
     "execution_count": 182,
     "metadata": {},
     "output_type": "execute_result"
    },
    {
     "data": {
      "text/plain": [
       "(2679, 52)"
      ]
     },
     "execution_count": 182,
     "metadata": {},
     "output_type": "execute_result"
    }
   ],
   "source": [
    "#3. Create train-test split\n",
    "X_train, X_test, y_train, y_test = train_test_split(X, y, random_state=10)\n",
    "X_train.shape\n",
    "X_test.shape"
   ]
  },
  {
   "cell_type": "markdown",
   "metadata": {},
   "source": [
    "f) Scale the data sets"
   ]
  },
  {
   "cell_type": "code",
   "execution_count": 183,
   "metadata": {},
   "outputs": [],
   "source": [
    "from sklearn.preprocessing import StandardScaler\n",
    "\n",
    "scaler = StandardScaler().fit(X_train)\n",
    "X_train_scaled = scaler.transform(X_train)\n",
    "X_test_scaled = scaler.transform(X_test)"
   ]
  },
  {
   "cell_type": "markdown",
   "metadata": {},
   "source": [
    "<b>Build the Model</b>"
   ]
  },
  {
   "cell_type": "markdown",
   "metadata": {},
   "source": [
    "<b>A.</b> Estimate a KNN model, with 5-fold cross validation, with grid search over the number of neighbours parameter"
   ]
  },
  {
   "cell_type": "code",
   "execution_count": 184,
   "metadata": {},
   "outputs": [
    {
     "name": "stdout",
     "output_type": "stream",
     "text": [
      "Best performance:  0.577\n",
      "Best param:  {'n_neighbors': 8}\n"
     ]
    }
   ],
   "source": [
    "from sklearn.neighbors import KNeighborsClassifier\n",
    "\n",
    "param_grid = {'n_neighbors': np.arange(2, 10)}\n",
    "knn_grid = GridSearchCV(KNeighborsClassifier(), param_grid, cv=5).fit(X_train_scaled, y_train)\n",
    "\n",
    "print (\"Best performance: {: .3f}\".format(knn_grid.best_score_))\n",
    "print (\"Best param: \", knn_grid.best_params_)"
   ]
  },
  {
   "cell_type": "markdown",
   "metadata": {},
   "source": [
    "<b>B.</b> Estimate a Logistic Regression model, with 5-fold cross validation, with grid search over the regularization parameter"
   ]
  },
  {
   "cell_type": "code",
   "execution_count": 189,
   "metadata": {},
   "outputs": [
    {
     "name": "stdout",
     "output_type": "stream",
     "text": [
      "Best performance:  0.607\n",
      "Best param:  {'C': 0.1}\n"
     ]
    }
   ],
   "source": [
    "#Logistic regression model on the training set, with 5-fold cross validation, with grid search over the regularization parameter\n",
    "from sklearn.linear_model import LogisticRegression\n",
    "\n",
    "param_grid = {'C': np.power(10.0, np.arange(-5, 5))}\n",
    "lr_grid = GridSearchCV(LogisticRegression(dual=False), param_grid, return_train_score = True, cv=5).fit(X_train_scaled, y_train)\n",
    "\n",
    "print (\"Best performance: {: .3f}\".format(lr_grid.best_score_))\n",
    "print (\"Best param: \", lr_grid.best_params_)"
   ]
  },
  {
   "cell_type": "markdown",
   "metadata": {},
   "source": [
    "<u>Results:</u> <br> \n",
    "With L2 regularization (LogisticRegression()) - sligthly faster <br> \n",
    "Best performance:  0.607 <br> \n",
    "Best param:  {'C': 0.1} <br> \n",
    "    \n",
    "With L1 regularization (LogisticRegression(penalty='l1')) - slower <br> \n",
    "Best performance:  0.607 <br> \n",
    "Best param:  {'C': 1.0} <br> "
   ]
  },
  {
   "cell_type": "markdown",
   "metadata": {},
   "source": [
    "<b>C.</b> Estimate a SVM model, with 5-fold cross validation, with grid search over the regularization parameter"
   ]
  },
  {
   "cell_type": "code",
   "execution_count": 197,
   "metadata": {},
   "outputs": [
    {
     "name": "stdout",
     "output_type": "stream",
     "text": [
      "Best performance:  0.603\n",
      "Best param:  {'C': 0.1}\n"
     ]
    }
   ],
   "source": [
    "# With Standard scaling \n",
    "from sklearn import svm\n",
    "\n",
    "param_grid = {'C': np.power(10.0, np.arange(-5, 5))}\n",
    "svc_grid = GridSearchCV(svm.LinearSVC(dual=False), param_grid, return_train_score = True, cv=5).fit(X_train_scaled, y_train)\n",
    "\n",
    "print (\"Best performance: {: .3f}\".format(svc_grid.best_score_))\n",
    "print (\"Best param: \", svc_grid.best_params_)"
   ]
  },
  {
   "cell_type": "code",
   "execution_count": 191,
   "metadata": {},
   "outputs": [
    {
     "name": "stdout",
     "output_type": "stream",
     "text": [
      "Best performance:  0.604\n",
      "Best param:  {'C': 1.0}\n"
     ]
    }
   ],
   "source": [
    "# code A) with MinMax scaling \n",
    "from sklearn.preprocessing import MinMaxScaler\n",
    "from sklearn.pipeline import Pipeline\n",
    "\n",
    "param_grid = {'C': np.power(10.0, np.arange(-5, 5))}\n",
    "estimators = [('scaler', MinMaxScaler()), ('grid', GridSearchCV(svm.LinearSVC(dual=False), param_grid, cv=5))]\n",
    "pipe = Pipeline(estimators).fit(X_train, y_train)\n",
    "\n",
    "svc_minmax_grid = pipe.named_steps['grid']\n",
    "print (\"Best performance: {: .3f}\".format(svc_minmax_grid.best_score_))\n",
    "print (\"Best param: \", svc_minmax_grid.best_params_)"
   ]
  },
  {
   "cell_type": "code",
   "execution_count": 192,
   "metadata": {},
   "outputs": [
    {
     "name": "stdout",
     "output_type": "stream",
     "text": [
      "Best performance:  0.604\n",
      "Best param:  {'C': 1.0}\n"
     ]
    }
   ],
   "source": [
    "# code B) with Robust scaling \n",
    "from sklearn.preprocessing import RobustScaler\n",
    "from sklearn.pipeline import Pipeline\n",
    "\n",
    "param_grid = {'C': np.power(10.0, np.arange(-5, 5))}\n",
    "estimators = [('scaler', RobustScaler()), ('grid', GridSearchCV(svm.LinearSVC(dual=False), param_grid, cv=5))]\n",
    "pipe = Pipeline(estimators).fit(X_train, y_train)\n",
    "\n",
    "svc_rob_grid = pipe.named_steps['grid']\n",
    "print (\"Best performance: {: .3f}\".format(svc_rob_grid.best_score_))\n",
    "print (\"Best param: \", svc_rob_grid.best_params_)"
   ]
  },
  {
   "cell_type": "markdown",
   "metadata": {},
   "source": [
    "<u>Results:</u> <br> \n",
    "With Standard scaling<br> \n",
    "Best performance:  0.604 <br> \n",
    "Best param:  {'C': 1.0} <br> \n",
    "    \n",
    "With MinMax scaling <br> \n",
    "Best performance:  0.604  <br> \n",
    "Best param:  {'C': 1.0} <br> \n",
    "\n",
    "With Robust scaling <br> \n",
    "Best performance:  0.604 <br> \n",
    "Best param:  {'C': 1.0} <br> "
   ]
  },
  {
   "cell_type": "markdown",
   "metadata": {},
   "source": [
    "<b>D.</b> Estimate a Random Forest model, with 5-fold cross validation, with grid search over the number of estimators, number of eatures and each tree depth parameters"
   ]
  },
  {
   "cell_type": "code",
   "execution_count": 194,
   "metadata": {},
   "outputs": [
    {
     "name": "stdout",
     "output_type": "stream",
     "text": [
      "Best performance:  0.609\n",
      "Best param:  {'max_depth': 7, 'max_features': 8, 'n_estimators': 110}\n"
     ]
    }
   ],
   "source": [
    "from sklearn.ensemble import RandomForestClassifier\n",
    "\n",
    "param_grid = {'max_depth': np.arange(1, 8), 'n_estimators': np.arange(100, 150, 10), 'max_features': np.arange(3, 10)} \n",
    "tree_grid = GridSearchCV(RandomForestClassifier(n_jobs=-1, random_state=10), param_grid, cv=5).fit(X_train, y_train)\n",
    "print (\"Best performance: {: .3f}\".format(tree_grid.best_score_))\n",
    "print (\"Best param: \", tree_grid.best_params_)"
   ]
  },
  {
   "cell_type": "markdown",
   "metadata": {},
   "source": [
    "<u>Results:</u> <br> \n",
    "RandomForestClassifier <br>\n",
    "Best performance:  0.609 <br>\n",
    "Best param:  {'max_depth': 7, 'max_features': 8, 'n_estimators': 110} "
   ]
  },
  {
   "cell_type": "code",
   "execution_count": 195,
   "metadata": {},
   "outputs": [
    {
     "data": {
      "text/plain": [
       "RandomForestClassifier(bootstrap=True, class_weight=None, criterion='gini',\n",
       "            max_depth=7, max_features=8, max_leaf_nodes=None,\n",
       "            min_impurity_decrease=0.0, min_impurity_split=None,\n",
       "            min_samples_leaf=1, min_samples_split=2,\n",
       "            min_weight_fraction_leaf=0.0, n_estimators=110, n_jobs=-1,\n",
       "            oob_score=False, random_state=10, verbose=0, warm_start=False)"
      ]
     },
     "execution_count": 195,
     "metadata": {},
     "output_type": "execute_result"
    },
    {
     "name": "stdout",
     "output_type": "stream",
     "text": [
      "Best performance:  0.601\n"
     ]
    }
   ],
   "source": [
    "tree = RandomForestClassifier(n_estimators = 110, max_depth=7, max_features = 8, n_jobs=-1, random_state=10)\n",
    "tree.fit(X_train, y_train)\n",
    "scores = cross_val_score(tree, X_train, y_train)\n",
    "print (\"Best performance: {: .3f}\".format(scores.mean()))"
   ]
  },
  {
   "cell_type": "markdown",
   "metadata": {},
   "source": [
    "<b>Estimate the Model performance</b>"
   ]
  },
  {
   "cell_type": "code",
   "execution_count": 196,
   "metadata": {},
   "outputs": [
    {
     "name": "stdout",
     "output_type": "stream",
     "text": [
      "KNN performance:  0.592\n",
      "LogisticRegression with L2 regularization performance:  0.601\n",
      "SVC performance:  0.601\n",
      "SVC with MinMax scaling performance:  0.551\n",
      "SVC with Robust scaling performance:  0.548\n",
      "RandomForest performance:  0.611\n"
     ]
    }
   ],
   "source": [
    "#A. KNN\n",
    "print (\"KNN performance: {: .3f}\".format(knn_grid.score(X_test_scaled, y_test)))\n",
    "\n",
    "#B. LogisticRegression with L2 regularization\n",
    "print (\"LogisticRegression with L2 regularization performance: {: .3f}\".format(lr_grid.score(X_test_scaled, y_test)))\n",
    "\n",
    "#C. SVC\n",
    "print (\"SVC performance: {: .3f}\".format(svc_grid.score(X_test_scaled, y_test)))\n",
    "\n",
    "#C_A). SVC with MinMax scaling \n",
    "print (\"SVC with MinMax scaling performance: {: .3f}\".format(svc_minmax_grid.score(X_test_scaled, y_test)))\n",
    "\n",
    "#C_B). SVC with Robust scaling \n",
    "print (\"SVC with Robust scaling performance: {: .3f}\".format(svc_rob_grid.score(X_test_scaled, y_test)))\n",
    "\n",
    "#D. RandomForest\n",
    "print (\"RandomForest performance: {: .3f}\".format(tree.score(X_test, y_test)))\n"
   ]
  },
  {
   "cell_type": "markdown",
   "metadata": {},
   "source": [
    "In conclusion, the best model is the RandomForest model, with an accurancy of 0.611 on the test dataset."
   ]
  }
 ],
 "metadata": {
  "kernelspec": {
   "display_name": "Python 3",
   "language": "python",
   "name": "python3"
  },
  "language_info": {
   "codemirror_mode": {
    "name": "ipython",
    "version": 3
   },
   "file_extension": ".py",
   "mimetype": "text/x-python",
   "name": "python",
   "nbconvert_exporter": "python",
   "pygments_lexer": "ipython3",
   "version": "3.6.4"
  }
 },
 "nbformat": 4,
 "nbformat_minor": 2
}
